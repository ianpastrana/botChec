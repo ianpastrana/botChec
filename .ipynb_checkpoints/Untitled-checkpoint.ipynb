{
 "cells": [
  {
   "cell_type": "code",
   "execution_count": 1,
   "metadata": {},
   "outputs": [
    {
     "data": {
      "text/plain": [
       "[['12345', '98765', '05/05/2020', '690000', 'Activo', '36'],\n",
       " ['24680', '97531', '01/01/2020', '90000', 'Activo', '12']]"
      ]
     },
     "execution_count": 1,
     "metadata": {},
     "output_type": "execute_result"
    }
   ],
   "source": [
    "data = [[\"12345\", \"98765\", \"05/05/2020\", \"690000\", \"Activo\", \"36\"], [\"24680\", \"97531\", \"01/01/2020\", \"90000\", \"Activo\", \"12\"]]\n",
    "data"
   ]
  },
  {
   "cell_type": "code",
   "execution_count": 6,
   "metadata": {},
   "outputs": [],
   "source": [
    "llaves = [\"Matricula\", \"Numero de Crédito\", \"Fecha de la Compra\", \"Valor del Crédito\", \"Estado del Crédito\", \"Numero de Cuotas\"]"
   ]
  },
  {
   "cell_type": "code",
   "execution_count": null,
   "metadata": {},
   "outputs": [],
   "source": [
    "res = {test_keys[i]: test_values[i] for i in range(len(test_keys))} "
   ]
  },
  {
   "cell_type": "code",
   "execution_count": 2,
   "metadata": {},
   "outputs": [],
   "source": [
    "matrix = [[j for j in range(5)] for i in range(5)] "
   ]
  },
  {
   "cell_type": "code",
   "execution_count": 3,
   "metadata": {},
   "outputs": [
    {
     "data": {
      "text/plain": [
       "[[0, 1, 2, 3, 4],\n",
       " [0, 1, 2, 3, 4],\n",
       " [0, 1, 2, 3, 4],\n",
       " [0, 1, 2, 3, 4],\n",
       " [0, 1, 2, 3, 4]]"
      ]
     },
     "execution_count": 3,
     "metadata": {},
     "output_type": "execute_result"
    }
   ],
   "source": [
    "matrix"
   ]
  },
  {
   "cell_type": "code",
   "execution_count": 4,
   "metadata": {},
   "outputs": [
    {
     "data": {
      "text/plain": [
       "[1, 2, 3, 4, 5, 6, 7, 8, 9]"
      ]
     },
     "execution_count": 4,
     "metadata": {},
     "output_type": "execute_result"
    }
   ],
   "source": [
    "matrix = [[1, 2, 3], [4, 5], [6, 7, 8, 9]] \n",
    "flatten_matrix = [val for sublist in matrix for val in sublist] \n",
    "flatten_matrix"
   ]
  },
  {
   "cell_type": "code",
   "execution_count": null,
   "metadata": {},
   "outputs": [],
   "source": [
    "{llaves[]: test_values[i] for sublista in data for valor in sublista]"
   ]
  },
  {
   "cell_type": "code",
   "execution_count": null,
   "metadata": {},
   "outputs": [],
   "source": [
    "color_dictionary = dict(zip(keys, values))"
   ]
  },
  {
   "cell_type": "code",
   "execution_count": 9,
   "metadata": {},
   "outputs": [
    {
     "data": {
      "text/plain": [
       "[{'Matricula': '12345',\n",
       "  'Numero de Crédito': '98765',\n",
       "  'Fecha de la Compra': '05/05/2020',\n",
       "  'Valor del Crédito': '690000',\n",
       "  'Estado del Crédito': 'Activo',\n",
       "  'Numero de Cuotas': '36'},\n",
       " {'Matricula': '24680',\n",
       "  'Numero de Crédito': '97531',\n",
       "  'Fecha de la Compra': '01/01/2020',\n",
       "  'Valor del Crédito': '90000',\n",
       "  'Estado del Crédito': 'Activo',\n",
       "  'Numero de Cuotas': '12'}]"
      ]
     },
     "execution_count": 9,
     "metadata": {},
     "output_type": "execute_result"
    }
   ],
   "source": [
    "[dict(zip(llaves, sublista)) for sublista in data ]#for valor in sublista]"
   ]
  },
  {
   "cell_type": "code",
   "execution_count": 11,
   "metadata": {},
   "outputs": [
    {
     "name": "stdout",
     "output_type": "stream",
     "text": [
      "{'Matricula': '12345', 'Numero de Crédito': '98765', 'Fecha de la Compra': '05/05/2020', 'Valor del Crédito': '690000', 'Estado del Crédito': 'Activo', 'Numero de Cuotas': '36'}\n",
      "{'Matricula': '24680', 'Numero de Crédito': '97531', 'Fecha de la Compra': '01/01/2020', 'Valor del Crédito': '90000', 'Estado del Crédito': 'Activo', 'Numero de Cuotas': '12'}\n"
     ]
    }
   ],
   "source": [
    "for sublista in data:\n",
    "    print(dict(zip(llaves, sublista)))"
   ]
  },
  {
   "cell_type": "code",
   "execution_count": null,
   "metadata": {},
   "outputs": [],
   "source": []
  }
 ],
 "metadata": {
  "kernelspec": {
   "display_name": "Python 3",
   "language": "python",
   "name": "python3"
  },
  "language_info": {
   "codemirror_mode": {
    "name": "ipython",
    "version": 3
   },
   "file_extension": ".py",
   "mimetype": "text/x-python",
   "name": "python",
   "nbconvert_exporter": "python",
   "pygments_lexer": "ipython3",
   "version": "3.7.3"
  }
 },
 "nbformat": 4,
 "nbformat_minor": 4
}
